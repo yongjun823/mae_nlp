{
 "cells": [
  {
   "cell_type": "code",
   "execution_count": 1,
   "metadata": {
    "collapsed": true
   },
   "outputs": [],
   "source": [
    "import os\n",
    "import pandas as pd\n",
    "from tqdm import tqdm_notebook as tqdm\n",
    "import numpy as np\n",
    "import matplotlib.pyplot as plt\n",
    "import collections\n",
    "from pprint import pprint\n",
    "from glob import glob"
   ]
  },
  {
   "cell_type": "code",
   "execution_count": 39,
   "metadata": {
    "collapsed": false
   },
   "outputs": [
    {
     "data": {
      "text/plain": [
       "900"
      ]
     },
     "execution_count": 39,
     "metadata": {},
     "output_type": "execute_result"
    }
   ],
   "source": [
    "dir_names = ['./mae_data/val/*', './mae_data/train/*']\n",
    "\n",
    "json_arr = []\n",
    "\n",
    "for name in dir_names:\n",
    "    json_arr += glob(name)\n",
    "    \n",
    "len(json_arr)"
   ]
  },
  {
   "cell_type": "code",
   "execution_count": 41,
   "metadata": {
    "collapsed": false
   },
   "outputs": [],
   "source": [
    "df_arr = []\n",
    "\n",
    "for jj in tqdm(json_arr):\n",
    "    df_t = pd.read_json(jj)\n",
    "    df_arr.append(df_t)\n",
    "    \n",
    "df = pd.concat(df_arr, ignore_index=True)"
   ]
  },
  {
   "cell_type": "code",
   "execution_count": 7,
   "metadata": {
    "collapsed": false
   },
   "outputs": [
    {
     "data": {
      "text/plain": [
       "'Diesel newcomer Arges takes a turn for the sophisticated, incorporating a rich brown leather strap, a sleek stainless steel case and cool grey dial.\\nCase Size: 46 X 50 mm\\nCase Thickness: 12 mm\\nLug Width: 24 mm\\nWater Resistance: 10 ATM'"
      ]
     },
     "execution_count": 7,
     "metadata": {},
     "output_type": "execute_result"
    }
   ],
   "source": [
    "df.text[7]"
   ]
  },
  {
   "cell_type": "code",
   "execution_count": 9,
   "metadata": {
    "collapsed": false
   },
   "outputs": [],
   "source": [
    "img_label = pd.read_csv('./mae_data/csv/mae_img_label.csv', header=None)"
   ]
  },
  {
   "cell_type": "code",
   "execution_count": 10,
   "metadata": {
    "collapsed": false
   },
   "outputs": [
    {
     "data": {
      "text/html": [
       "<div>\n",
       "<style scoped>\n",
       "    .dataframe tbody tr th:only-of-type {\n",
       "        vertical-align: middle;\n",
       "    }\n",
       "\n",
       "    .dataframe tbody tr th {\n",
       "        vertical-align: top;\n",
       "    }\n",
       "\n",
       "    .dataframe thead th {\n",
       "        text-align: right;\n",
       "    }\n",
       "</style>\n",
       "<table border=\"1\" class=\"dataframe\">\n",
       "  <thead>\n",
       "    <tr style=\"text-align: right;\">\n",
       "      <th></th>\n",
       "      <th>0</th>\n",
       "      <th>1</th>\n",
       "      <th>2</th>\n",
       "      <th>3</th>\n",
       "      <th>4</th>\n",
       "      <th>5</th>\n",
       "      <th>6</th>\n",
       "      <th>7</th>\n",
       "      <th>8</th>\n",
       "      <th>9</th>\n",
       "      <th>10</th>\n",
       "      <th>11</th>\n",
       "      <th>12</th>\n",
       "      <th>13</th>\n",
       "      <th>14</th>\n",
       "    </tr>\n",
       "  </thead>\n",
       "  <tbody>\n",
       "    <tr>\n",
       "      <th>0</th>\n",
       "      <td>product%7C4%7C-1000000248_0.jpg</td>\n",
       "      <td>JPEG</td>\n",
       "      <td>RGB</td>\n",
       "      <td>(335, 500)</td>\n",
       "      <td>40.0 KB</td>\n",
       "      <td>bow_tie</td>\n",
       "      <td>99.928397</td>\n",
       "      <td>web_site</td>\n",
       "      <td>0.022756</td>\n",
       "      <td>Windsor_tie</td>\n",
       "      <td>0.016022</td>\n",
       "      <td>book_jacket</td>\n",
       "      <td>0.008080</td>\n",
       "      <td>2912</td>\n",
       "      <td>277</td>\n",
       "    </tr>\n",
       "    <tr>\n",
       "      <th>1</th>\n",
       "      <td>product%7C4%7C-1000000416_0.jpg</td>\n",
       "      <td>JPEG</td>\n",
       "      <td>RGB</td>\n",
       "      <td>(182, 300)</td>\n",
       "      <td>12.7 KB</td>\n",
       "      <td>packet</td>\n",
       "      <td>75.721252</td>\n",
       "      <td>web_site</td>\n",
       "      <td>7.337227</td>\n",
       "      <td>lipstick</td>\n",
       "      <td>5.100508</td>\n",
       "      <td>face_powder</td>\n",
       "      <td>2.705671</td>\n",
       "      <td>2912</td>\n",
       "      <td>277</td>\n",
       "    </tr>\n",
       "    <tr>\n",
       "      <th>2</th>\n",
       "      <td>product%7C4%7C-1000002752_0.jpg</td>\n",
       "      <td>JPEG</td>\n",
       "      <td>RGB</td>\n",
       "      <td>(308, 308)</td>\n",
       "      <td>7.6 KB</td>\n",
       "      <td>rule</td>\n",
       "      <td>78.719521</td>\n",
       "      <td>slide_rule</td>\n",
       "      <td>1.440430</td>\n",
       "      <td>hair_spray</td>\n",
       "      <td>1.379705</td>\n",
       "      <td>web_site</td>\n",
       "      <td>1.271158</td>\n",
       "      <td>2912</td>\n",
       "      <td>277</td>\n",
       "    </tr>\n",
       "    <tr>\n",
       "      <th>3</th>\n",
       "      <td>product%7C4%7C-1000004848_0.jpg</td>\n",
       "      <td>JPEG</td>\n",
       "      <td>RGB</td>\n",
       "      <td>(315, 315)</td>\n",
       "      <td>9.3 KB</td>\n",
       "      <td>web_site</td>\n",
       "      <td>36.242899</td>\n",
       "      <td>rule</td>\n",
       "      <td>22.350354</td>\n",
       "      <td>broom</td>\n",
       "      <td>3.967119</td>\n",
       "      <td>bow</td>\n",
       "      <td>3.919487</td>\n",
       "      <td>2912</td>\n",
       "      <td>277</td>\n",
       "    </tr>\n",
       "    <tr>\n",
       "      <th>4</th>\n",
       "      <td>product%7C4%7C-1000006328_0.jpg</td>\n",
       "      <td>JPEG</td>\n",
       "      <td>RGB</td>\n",
       "      <td>(400, 300)</td>\n",
       "      <td>4.9 KB</td>\n",
       "      <td>plunger</td>\n",
       "      <td>17.542212</td>\n",
       "      <td>candle</td>\n",
       "      <td>10.454264</td>\n",
       "      <td>beaker</td>\n",
       "      <td>6.337325</td>\n",
       "      <td>hourglass</td>\n",
       "      <td>6.316449</td>\n",
       "      <td>2912</td>\n",
       "      <td>277</td>\n",
       "    </tr>\n",
       "    <tr>\n",
       "      <th>5</th>\n",
       "      <td>product%7C4%7C-1000010932_0.jpg</td>\n",
       "      <td>JPEG</td>\n",
       "      <td>RGB</td>\n",
       "      <td>(180, 180)</td>\n",
       "      <td>2.8 KB</td>\n",
       "      <td>lotion</td>\n",
       "      <td>81.982458</td>\n",
       "      <td>sunscreen</td>\n",
       "      <td>8.297831</td>\n",
       "      <td>soap_dispenser</td>\n",
       "      <td>4.743769</td>\n",
       "      <td>nipple</td>\n",
       "      <td>2.669959</td>\n",
       "      <td>2912</td>\n",
       "      <td>277</td>\n",
       "    </tr>\n",
       "    <tr>\n",
       "      <th>6</th>\n",
       "      <td>product%7C4%7C-1000011740_0.jpg</td>\n",
       "      <td>JPEG</td>\n",
       "      <td>RGB</td>\n",
       "      <td>(275, 275)</td>\n",
       "      <td>19.0 KB</td>\n",
       "      <td>loupe</td>\n",
       "      <td>83.716655</td>\n",
       "      <td>face_powder</td>\n",
       "      <td>3.919664</td>\n",
       "      <td>guillotine</td>\n",
       "      <td>3.425708</td>\n",
       "      <td>printer</td>\n",
       "      <td>1.406303</td>\n",
       "      <td>2912</td>\n",
       "      <td>277</td>\n",
       "    </tr>\n",
       "    <tr>\n",
       "      <th>7</th>\n",
       "      <td>product%7C4%7C-1000016271_0.jpg</td>\n",
       "      <td>JPEG</td>\n",
       "      <td>RGB</td>\n",
       "      <td>(300, 40)</td>\n",
       "      <td>3.2 KB</td>\n",
       "      <td>dumbbell</td>\n",
       "      <td>26.946607</td>\n",
       "      <td>screw</td>\n",
       "      <td>10.507034</td>\n",
       "      <td>spotlight</td>\n",
       "      <td>7.382729</td>\n",
       "      <td>binoculars</td>\n",
       "      <td>4.871642</td>\n",
       "      <td>2912</td>\n",
       "      <td>277</td>\n",
       "    </tr>\n",
       "    <tr>\n",
       "      <th>8</th>\n",
       "      <td>product%7C4%7C-100002160_0.jpg</td>\n",
       "      <td>JPEG</td>\n",
       "      <td>RGB</td>\n",
       "      <td>(331, 499)</td>\n",
       "      <td>55.9 KB</td>\n",
       "      <td>book_jacket</td>\n",
       "      <td>95.286155</td>\n",
       "      <td>menu</td>\n",
       "      <td>1.590985</td>\n",
       "      <td>comic_book</td>\n",
       "      <td>0.478301</td>\n",
       "      <td>Dungeness_crab</td>\n",
       "      <td>0.419812</td>\n",
       "      <td>2912</td>\n",
       "      <td>277</td>\n",
       "    </tr>\n",
       "    <tr>\n",
       "      <th>9</th>\n",
       "      <td>product%7C4%7C-1000021724_0.jpg</td>\n",
       "      <td>JPEG</td>\n",
       "      <td>RGB</td>\n",
       "      <td>(2000, 2000)</td>\n",
       "      <td>728.8 KB</td>\n",
       "      <td>spider_web</td>\n",
       "      <td>69.914871</td>\n",
       "      <td>fountain</td>\n",
       "      <td>19.313847</td>\n",
       "      <td>balloon</td>\n",
       "      <td>1.809467</td>\n",
       "      <td>garden_spider</td>\n",
       "      <td>1.002125</td>\n",
       "      <td>2912</td>\n",
       "      <td>277</td>\n",
       "    </tr>\n",
       "  </tbody>\n",
       "</table>\n",
       "</div>"
      ],
      "text/plain": [
       "                                0     1    2             3         4   \\\n",
       "0  product%7C4%7C-1000000248_0.jpg  JPEG  RGB    (335, 500)   40.0 KB   \n",
       "1  product%7C4%7C-1000000416_0.jpg  JPEG  RGB    (182, 300)   12.7 KB   \n",
       "2  product%7C4%7C-1000002752_0.jpg  JPEG  RGB    (308, 308)    7.6 KB   \n",
       "3  product%7C4%7C-1000004848_0.jpg  JPEG  RGB    (315, 315)    9.3 KB   \n",
       "4  product%7C4%7C-1000006328_0.jpg  JPEG  RGB    (400, 300)    4.9 KB   \n",
       "5  product%7C4%7C-1000010932_0.jpg  JPEG  RGB    (180, 180)    2.8 KB   \n",
       "6  product%7C4%7C-1000011740_0.jpg  JPEG  RGB    (275, 275)   19.0 KB   \n",
       "7  product%7C4%7C-1000016271_0.jpg  JPEG  RGB     (300, 40)    3.2 KB   \n",
       "8   product%7C4%7C-100002160_0.jpg  JPEG  RGB    (331, 499)   55.9 KB   \n",
       "9  product%7C4%7C-1000021724_0.jpg  JPEG  RGB  (2000, 2000)  728.8 KB   \n",
       "\n",
       "            5          6            7          8               9         10  \\\n",
       "0      bow_tie  99.928397     web_site   0.022756     Windsor_tie  0.016022   \n",
       "1       packet  75.721252     web_site   7.337227        lipstick  5.100508   \n",
       "2         rule  78.719521   slide_rule   1.440430      hair_spray  1.379705   \n",
       "3     web_site  36.242899         rule  22.350354           broom  3.967119   \n",
       "4      plunger  17.542212       candle  10.454264          beaker  6.337325   \n",
       "5       lotion  81.982458    sunscreen   8.297831  soap_dispenser  4.743769   \n",
       "6        loupe  83.716655  face_powder   3.919664      guillotine  3.425708   \n",
       "7     dumbbell  26.946607        screw  10.507034       spotlight  7.382729   \n",
       "8  book_jacket  95.286155         menu   1.590985      comic_book  0.478301   \n",
       "9   spider_web  69.914871     fountain  19.313847         balloon  1.809467   \n",
       "\n",
       "               11        12    13   14  \n",
       "0     book_jacket  0.008080  2912  277  \n",
       "1     face_powder  2.705671  2912  277  \n",
       "2        web_site  1.271158  2912  277  \n",
       "3             bow  3.919487  2912  277  \n",
       "4       hourglass  6.316449  2912  277  \n",
       "5          nipple  2.669959  2912  277  \n",
       "6         printer  1.406303  2912  277  \n",
       "7      binoculars  4.871642  2912  277  \n",
       "8  Dungeness_crab  0.419812  2912  277  \n",
       "9   garden_spider  1.002125  2912  277  "
      ]
     },
     "execution_count": 10,
     "metadata": {},
     "output_type": "execute_result"
    }
   ],
   "source": [
    "img_label.head(10)"
   ]
  },
  {
   "cell_type": "code",
   "execution_count": 11,
   "metadata": {
    "collapsed": true
   },
   "outputs": [],
   "source": [
    "output_df = pd.DataFrame(columns=['title', 'images'])"
   ]
  },
  {
   "cell_type": "code",
   "execution_count": 30,
   "metadata": {
    "collapsed": false
   },
   "outputs": [],
   "source": [
    "pbar = tqdm(total=len(img_label))\n",
    "\n",
    "for idx, row in img_label.iterrows():    \n",
    "    pbar.update(1)\n",
    "    \n",
    "    img_name = row[0].replace('%7C', '|')[:-4]\n",
    "    class_labels = [row[5], row[7], row[9], row[11]]\n",
    "    mask = df.images.apply(lambda x: img_name in x)\n",
    "    df1 = df[mask]\n",
    "    \n",
    "    if len(df1['title']) == 0:\n",
    "        continue\n",
    "    \n",
    "    for i, x in df1.iterrows():\n",
    "        output_df = output_df.append({'title': x['title'], 'images': class_labels}, ignore_index=True)"
   ]
  },
  {
   "cell_type": "code",
   "execution_count": 14,
   "metadata": {
    "collapsed": false
   },
   "outputs": [],
   "source": [
    "t = output_df.iloc[1]['title']\n",
    "labels = output_df.iloc[1]['images']"
   ]
  },
  {
   "cell_type": "code",
   "execution_count": 27,
   "metadata": {
    "collapsed": false
   },
   "outputs": [
    {
     "name": "stdout",
     "output_type": "stream",
     "text": [
      "title  cubic\n",
      "label  ['refrigerator', 'plate_rack', 'rotisserie', 'stove']\n"
     ]
    }
   ],
   "source": [
    "print('title ', t)\n",
    "print('label ', labels)"
   ]
  },
  {
   "cell_type": "code",
   "execution_count": 23,
   "metadata": {
    "collapsed": false
   },
   "outputs": [
    {
     "name": "stderr",
     "output_type": "stream",
     "text": [
      "C:\\Users\\LikeJust\\Anaconda3\\lib\\site-packages\\ipykernel\\__main__.py:4: DeprecationWarning: Call to deprecated `__getitem__` (Method will be removed in 4.0.0, use self.wv.__getitem__() instead).\n"
     ]
    },
    {
     "data": {
      "text/plain": [
       "(300,)"
      ]
     },
     "execution_count": 23,
     "metadata": {},
     "output_type": "execute_result"
    }
   ],
   "source": [
    "from gensim.models import Word2Vec\n",
    "model = Word2Vec.load('./mae_data/gensim_model/apnews_sg/word2vec.bin')\n",
    "vocab = list(model.wv.vocab)\n",
    "model['core'].shape"
   ]
  },
  {
   "cell_type": "code",
   "execution_count": 24,
   "metadata": {
    "collapsed": false
   },
   "outputs": [],
   "source": [
    "titles = [x.lower() for x in t.split()]\n",
    "label_arr = []\n",
    "\n",
    "for l in labels:\n",
    "    if '_' in l:\n",
    "        for ll in l.split('_'):\n",
    "            label_arr.append(ll)\n",
    "    else:\n",
    "        label_arr.append(l)\n",
    "        \n",
    "titles = list(filter(lambda x: x in vocab, titles))\n",
    "label_arr = list(filter(lambda x: x in vocab, label_arr))"
   ]
  },
  {
   "cell_type": "code",
   "execution_count": 25,
   "metadata": {
    "collapsed": false
   },
   "outputs": [
    {
     "name": "stdout",
     "output_type": "stream",
     "text": [
      "['refrigerator', 'plate', 'rack', 'rotisserie', 'stove']\n",
      "['danby', 'silhouette', 'built-in', 'beverage', '5.6', 'cubic']\n"
     ]
    }
   ],
   "source": [
    "print(label_arr)\n",
    "print(titles)"
   ]
  },
  {
   "cell_type": "code",
   "execution_count": 26,
   "metadata": {
    "collapsed": false
   },
   "outputs": [
    {
     "name": "stdout",
     "output_type": "stream",
     "text": [
      "refrigerator 5.6 = 0.012576495\n",
      "rack danby = 0.03602119\n",
      "rack cubic = 0.03701368\n",
      "rotisserie 5.6 = 0.03124197\n"
     ]
    }
   ],
   "source": [
    "for l in label_arr:\n",
    "    for t in titles:\n",
    "        sim = model.wv.similarity(l, t)\n",
    "        if sim < 0.05:\n",
    "            print(l, t, '=', sim)"
   ]
  }
 ],
 "metadata": {
  "anaconda-cloud": {},
  "kernelspec": {
   "display_name": "Python [default]",
   "language": "python",
   "name": "python3"
  },
  "language_info": {
   "codemirror_mode": {
    "name": "ipython",
    "version": 3
   },
   "file_extension": ".py",
   "mimetype": "text/x-python",
   "name": "python",
   "nbconvert_exporter": "python",
   "pygments_lexer": "ipython3",
   "version": "3.5.6"
  }
 },
 "nbformat": 4,
 "nbformat_minor": 2
}
