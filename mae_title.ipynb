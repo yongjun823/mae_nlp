{
 "cells": [
  {
   "cell_type": "code",
   "execution_count": 1,
   "metadata": {
    "collapsed": true
   },
   "outputs": [],
   "source": [
    "import os\n",
    "import pandas as pd\n",
    "from tqdm import tqdm_notebook as tqdm\n",
    "import numpy as np\n",
    "import matplotlib.pyplot as plt\n",
    "import collections\n",
    "from pprint import pprint\n",
    "import json\n",
    "import seaborn as sns"
   ]
  },
  {
   "cell_type": "code",
   "execution_count": 2,
   "metadata": {
    "collapsed": true
   },
   "outputs": [],
   "source": [
    "df = pd.read_csv('./csv/mae_data.csv', encoding='utf8')"
   ]
  },
  {
   "cell_type": "code",
   "execution_count": 3,
   "metadata": {
    "collapsed": false
   },
   "outputs": [
    {
     "data": {
      "text/html": [
       "<div>\n",
       "<style scoped>\n",
       "    .dataframe tbody tr th:only-of-type {\n",
       "        vertical-align: middle;\n",
       "    }\n",
       "\n",
       "    .dataframe tbody tr th {\n",
       "        vertical-align: top;\n",
       "    }\n",
       "\n",
       "    .dataframe thead th {\n",
       "        text-align: right;\n",
       "    }\n",
       "</style>\n",
       "<table border=\"1\" class=\"dataframe\">\n",
       "  <thead>\n",
       "    <tr style=\"text-align: right;\">\n",
       "      <th></th>\n",
       "      <th>string_field_0</th>\n",
       "      <th>string_field_3</th>\n",
       "      <th>string_field_5</th>\n",
       "      <th>string_field_7</th>\n",
       "      <th>string_field_9</th>\n",
       "      <th>string_field_11</th>\n",
       "    </tr>\n",
       "  </thead>\n",
       "  <tbody>\n",
       "    <tr>\n",
       "      <th>0</th>\n",
       "      <td>And Then You're Dead: What Really Happens If Y...</td>\n",
       "      <td>Review\\n\"As someone who is averse to flying, e...</td>\n",
       "      <td>picket_fence</td>\n",
       "      <td>book_jacket</td>\n",
       "      <td>sweatshirt</td>\n",
       "      <td>bannister</td>\n",
       "    </tr>\n",
       "    <tr>\n",
       "      <th>1</th>\n",
       "      <td>‎F45ST D125-40</td>\n",
       "      <td>45° screw clamped face mills carrying SEK/MT 1...</td>\n",
       "      <td>picket_fence</td>\n",
       "      <td>book_jacket</td>\n",
       "      <td>sweatshirt</td>\n",
       "      <td>bannister</td>\n",
       "    </tr>\n",
       "    <tr>\n",
       "      <th>2</th>\n",
       "      <td>Panasonic DMR-EX99V DVD Recorder</td>\n",
       "      <td>Panasonic DMR-EX99V DVD Recorder\\nThe Panasoni...</td>\n",
       "      <td>studio_couch</td>\n",
       "      <td>folding_chair</td>\n",
       "      <td>printer</td>\n",
       "      <td>rocking_chair</td>\n",
       "    </tr>\n",
       "    <tr>\n",
       "      <th>3</th>\n",
       "      <td>Sonic Boom: Fire and Ice</td>\n",
       "      <td>Race through this epic new adventure as Sonic,...</td>\n",
       "      <td>studio_couch</td>\n",
       "      <td>gown</td>\n",
       "      <td>doormat</td>\n",
       "      <td>Egyptian_cat</td>\n",
       "    </tr>\n",
       "    <tr>\n",
       "      <th>4</th>\n",
       "      <td>Quartet Magnetic Dry-Erase/Cork Board, 18 x 30...</td>\n",
       "      <td>Durable board delivers quality performance whe...</td>\n",
       "      <td>studio_couch</td>\n",
       "      <td>crib</td>\n",
       "      <td>wardrobe</td>\n",
       "      <td>web_site</td>\n",
       "    </tr>\n",
       "    <tr>\n",
       "      <th>5</th>\n",
       "      <td>Grant Canoe Penny</td>\n",
       "      <td>They say jet-setting Europeans were the first ...</td>\n",
       "      <td>studio_couch</td>\n",
       "      <td>wardrobe</td>\n",
       "      <td>chest</td>\n",
       "      <td>crib</td>\n",
       "    </tr>\n",
       "    <tr>\n",
       "      <th>6</th>\n",
       "      <td>Duclemosa 2016 Autumn and Winter Women Long Sl...</td>\n",
       "      <td>Item specifics\\nBrand Name: DUCLEMOSA\\nMateria...</td>\n",
       "      <td>studio_couch</td>\n",
       "      <td>wardrobe</td>\n",
       "      <td>web_site</td>\n",
       "      <td>shower_curtain</td>\n",
       "    </tr>\n",
       "    <tr>\n",
       "      <th>7</th>\n",
       "      <td>Insulated Lunch Bag: Insignia Mall Adult Lunch...</td>\n",
       "      <td>Popularity - 232 Views, Super high amount of v...</td>\n",
       "      <td>reflex_camera</td>\n",
       "      <td>Polaroid_camera</td>\n",
       "      <td>lens_cap</td>\n",
       "      <td>projector</td>\n",
       "    </tr>\n",
       "    <tr>\n",
       "      <th>8</th>\n",
       "      <td>Minka-Lavery Harrison Black Three-Light Outdoo...</td>\n",
       "      <td>Minka-Lavery Harrison Black Three-Light Outdoo...</td>\n",
       "      <td>reflex_camera</td>\n",
       "      <td>Polaroid_camera</td>\n",
       "      <td>washer</td>\n",
       "      <td>loudspeaker</td>\n",
       "    </tr>\n",
       "    <tr>\n",
       "      <th>9</th>\n",
       "      <td>9/32 in. I.D. Stainless Steel Bevel Washer for...</td>\n",
       "      <td>Feeney CableRail standard cable assemblies are...</td>\n",
       "      <td>soap_dispenser</td>\n",
       "      <td>lotion</td>\n",
       "      <td>water_bottle</td>\n",
       "      <td>web_site</td>\n",
       "    </tr>\n",
       "  </tbody>\n",
       "</table>\n",
       "</div>"
      ],
      "text/plain": [
       "                                      string_field_0  \\\n",
       "0  And Then You're Dead: What Really Happens If Y...   \n",
       "1                                     ‎F45ST D125-40   \n",
       "2                   Panasonic DMR-EX99V DVD Recorder   \n",
       "3                           Sonic Boom: Fire and Ice   \n",
       "4  Quartet Magnetic Dry-Erase/Cork Board, 18 x 30...   \n",
       "5                                  Grant Canoe Penny   \n",
       "6  Duclemosa 2016 Autumn and Winter Women Long Sl...   \n",
       "7  Insulated Lunch Bag: Insignia Mall Adult Lunch...   \n",
       "8  Minka-Lavery Harrison Black Three-Light Outdoo...   \n",
       "9  9/32 in. I.D. Stainless Steel Bevel Washer for...   \n",
       "\n",
       "                                      string_field_3  string_field_5  \\\n",
       "0  Review\\n\"As someone who is averse to flying, e...    picket_fence   \n",
       "1  45° screw clamped face mills carrying SEK/MT 1...    picket_fence   \n",
       "2  Panasonic DMR-EX99V DVD Recorder\\nThe Panasoni...    studio_couch   \n",
       "3  Race through this epic new adventure as Sonic,...    studio_couch   \n",
       "4  Durable board delivers quality performance whe...    studio_couch   \n",
       "5  They say jet-setting Europeans were the first ...    studio_couch   \n",
       "6  Item specifics\\nBrand Name: DUCLEMOSA\\nMateria...    studio_couch   \n",
       "7  Popularity - 232 Views, Super high amount of v...   reflex_camera   \n",
       "8  Minka-Lavery Harrison Black Three-Light Outdoo...   reflex_camera   \n",
       "9  Feeney CableRail standard cable assemblies are...  soap_dispenser   \n",
       "\n",
       "    string_field_7 string_field_9 string_field_11  \n",
       "0      book_jacket     sweatshirt       bannister  \n",
       "1      book_jacket     sweatshirt       bannister  \n",
       "2    folding_chair        printer   rocking_chair  \n",
       "3             gown        doormat    Egyptian_cat  \n",
       "4             crib       wardrobe        web_site  \n",
       "5         wardrobe          chest            crib  \n",
       "6         wardrobe       web_site  shower_curtain  \n",
       "7  Polaroid_camera       lens_cap       projector  \n",
       "8  Polaroid_camera         washer     loudspeaker  \n",
       "9           lotion   water_bottle        web_site  "
      ]
     },
     "execution_count": 3,
     "metadata": {},
     "output_type": "execute_result"
    }
   ],
   "source": [
    "df.head(10)"
   ]
  },
  {
   "cell_type": "markdown",
   "metadata": {},
   "source": [
    "# IMAGE AI 라벨과 데이터 단어 매칭"
   ]
  },
  {
   "cell_type": "code",
   "execution_count": 21,
   "metadata": {
    "collapsed": false
   },
   "outputs": [],
   "source": [
    "title_arr = []\n",
    "text_arr = []\n",
    "label_arr = []\n",
    "\n",
    "pbar = tqdm(total=len(df))\n",
    "for idx, row in df.iterrows():\n",
    "    pbar.update(1)\n",
    "    \n",
    "    title = row['string_field_0'].lower()\n",
    "    text = row['string_field_3'].lower()\n",
    "    \n",
    "    labels = [row['string_field_5'], row['string_field_7'], \n",
    "              row['string_field_9'], row['string_field_11']]\n",
    "    \n",
    "    for l in labels:\n",
    "        if l in title or l in text:\n",
    "            title_arr.append(title)\n",
    "            text_arr.append(text)\n",
    "            label_arr.append(l)"
   ]
  },
  {
   "cell_type": "code",
   "execution_count": 4,
   "metadata": {
    "collapsed": false
   },
   "outputs": [
    {
     "data": {
      "text/html": [
       "<div>\n",
       "<style scoped>\n",
       "    .dataframe tbody tr th:only-of-type {\n",
       "        vertical-align: middle;\n",
       "    }\n",
       "\n",
       "    .dataframe tbody tr th {\n",
       "        vertical-align: top;\n",
       "    }\n",
       "\n",
       "    .dataframe thead th {\n",
       "        text-align: right;\n",
       "    }\n",
       "</style>\n",
       "<table border=\"1\" class=\"dataframe\">\n",
       "  <thead>\n",
       "    <tr style=\"text-align: right;\">\n",
       "      <th></th>\n",
       "      <th>label</th>\n",
       "      <th>text</th>\n",
       "      <th>title</th>\n",
       "    </tr>\n",
       "  </thead>\n",
       "  <tbody>\n",
       "    <tr>\n",
       "      <th>0</th>\n",
       "      <td>screen</td>\n",
       "      <td>holbrook is a timeless, classic design fused w...</td>\n",
       "      <td>700285385167 - oakley holbrook sunglasses, mat...</td>\n",
       "    </tr>\n",
       "    <tr>\n",
       "      <th>1</th>\n",
       "      <td>screen</td>\n",
       "      <td>features\\ndigital cinema 4k for your professio...</td>\n",
       "      <td>lg 31mu97-b 31\" 4k ips led monitor 17:9 2xhdmi...</td>\n",
       "    </tr>\n",
       "    <tr>\n",
       "      <th>2</th>\n",
       "      <td>fountain</td>\n",
       "      <td>designers fountain ellington mediterranean pat...</td>\n",
       "      <td>designers fountain ellington mediterranean pat...</td>\n",
       "    </tr>\n",
       "    <tr>\n",
       "      <th>3</th>\n",
       "      <td>radio</td>\n",
       "      <td>display\\ntype\\nips-lcd\\nresolution\\n1280 x 720...</td>\n",
       "      <td>vivo y31</td>\n",
       "    </tr>\n",
       "    <tr>\n",
       "      <th>4</th>\n",
       "      <td>hook</td>\n",
       "      <td>composition: 45% polyester, 33% viscose, 22% c...</td>\n",
       "      <td>casual pants</td>\n",
       "    </tr>\n",
       "  </tbody>\n",
       "</table>\n",
       "</div>"
      ],
      "text/plain": [
       "      label                                               text  \\\n",
       "0    screen  holbrook is a timeless, classic design fused w...   \n",
       "1    screen  features\\ndigital cinema 4k for your professio...   \n",
       "2  fountain  designers fountain ellington mediterranean pat...   \n",
       "3     radio  display\\ntype\\nips-lcd\\nresolution\\n1280 x 720...   \n",
       "4      hook  composition: 45% polyester, 33% viscose, 22% c...   \n",
       "\n",
       "                                               title  \n",
       "0  700285385167 - oakley holbrook sunglasses, mat...  \n",
       "1  lg 31mu97-b 31\" 4k ips led monitor 17:9 2xhdmi...  \n",
       "2  designers fountain ellington mediterranean pat...  \n",
       "3                                           vivo y31  \n",
       "4                                       casual pants  "
      ]
     },
     "execution_count": 4,
     "metadata": {},
     "output_type": "execute_result"
    }
   ],
   "source": [
    "label_df = pd.DataFrame({'title': title_arr, 'text': text_arr, 'label': label_arr})\n",
    "label_df.head()"
   ]
  },
  {
   "cell_type": "code",
   "execution_count": 5,
   "metadata": {
    "collapsed": false
   },
   "outputs": [
    {
     "data": {
      "image/png": "[encoded data removed]",
      "text/plain": [
       "<Figure size 432x288 with 1 Axes>"
      ]
     },
     "metadata": {},
     "output_type": "display_data"
    }
   ],
   "source": [
    "labels = label_df['label'].value_counts()[:20]\n",
    "\n",
    "sns.barplot(x=labels, y=labels.index, orient='h')\n",
    "plt.show()"
   ]
  },
  {
   "cell_type": "code",
   "execution_count": 26,
   "metadata": {
    "collapsed": true
   },
   "outputs": [],
   "source": [
    "label_df.to_csv('label word result.csv')"
   ]
  },
  {
   "cell_type": "markdown",
   "metadata": {},
   "source": [
    "# DeepFashion 단어와 데이터 단어 매칭"
   ]
  },
  {
   "cell_type": "code",
   "execution_count": 6,
   "metadata": {
    "collapsed": true
   },
   "outputs": [],
   "source": [
    "from nltk.tokenize import word_tokenize\n",
    "from nltk.stem import WordNetLemmatizer"
   ]
  },
  {
   "cell_type": "code",
   "execution_count": 7,
   "metadata": {
    "collapsed": true
   },
   "outputs": [],
   "source": [
    "lm = WordNetLemmatizer()"
   ]
  },
  {
   "cell_type": "code",
   "execution_count": 8,
   "metadata": {
    "collapsed": true
   },
   "outputs": [],
   "source": [
    "fashion_label = ['Anorak','Capris','Caftan','Blazer','Chinos','Cape','Blouse',\n",
    " 'Culottes', 'Coat', 'Bomber', 'Cutoffs', 'Coverup', 'Button-Down', 'Gauchos',\n",
    " 'Dress', 'Cardigan', 'Jeans', 'Jumpsuit', 'Flannel', 'Jeggings', 'Kaftan', 'Halter',\n",
    " 'Jodhpurs', 'Kimono', 'Henley', 'Joggers', 'Nightdress', 'Hoodie', 'Leggings', 'Onesie',\n",
    " 'Jacket', 'Sarong', 'Robe', 'Jersey', 'Shorts', 'Romper', 'Parka', 'Skirt', 'Shirtdress',\n",
    " 'Peacoat', 'Sweatpants', 'Sundress', 'Poncho', 'Sweatshorts', 'Sweater', 'Trunks',\n",
    " 'Tank', 'Tee', 'Top', 'Turtleneck']\n",
    "fashion_label = [x.lower() for x in fashion_label]"
   ]
  },
  {
   "cell_type": "code",
   "execution_count": 22,
   "metadata": {
    "collapsed": false
   },
   "outputs": [],
   "source": [
    "title_arr = []\n",
    "text_arr = []\n",
    "label_arr = []\n",
    "\n",
    "pbar = tqdm(total=len(df))\n",
    "for idx, row in df.iterrows():\n",
    "    pbar.update(1)\n",
    "    \n",
    "    title = [lm.lemmatize(x) for x in word_tokenize(row['string_field_0'].lower())]\n",
    "    text = [lm.lemmatize(x) for x in word_tokenize(row['string_field_3'].lower())]\n",
    "        \n",
    "    for l in fashion_label:\n",
    "        \n",
    "        if l in title or l in text:\n",
    "            title_arr.append(title)\n",
    "            text_arr.append(text)\n",
    "            label_arr.append(l)"
   ]
  },
  {
   "cell_type": "code",
   "execution_count": 10,
   "metadata": {
    "collapsed": false
   },
   "outputs": [
    {
     "data": {
      "text/html": [
       "<div>\n",
       "<style scoped>\n",
       "    .dataframe tbody tr th:only-of-type {\n",
       "        vertical-align: middle;\n",
       "    }\n",
       "\n",
       "    .dataframe tbody tr th {\n",
       "        vertical-align: top;\n",
       "    }\n",
       "\n",
       "    .dataframe thead th {\n",
       "        text-align: right;\n",
       "    }\n",
       "</style>\n",
       "<table border=\"1\" class=\"dataframe\">\n",
       "  <thead>\n",
       "    <tr style=\"text-align: right;\">\n",
       "      <th></th>\n",
       "      <th>label</th>\n",
       "      <th>text</th>\n",
       "      <th>title</th>\n",
       "    </tr>\n",
       "  </thead>\n",
       "  <tbody>\n",
       "    <tr>\n",
       "      <th>0</th>\n",
       "      <td>top</td>\n",
       "      <td>[seller, :, avitarunlimited, (, 12,633, ), 99....</td>\n",
       "      <td>[(, 8, ), new, amp, 2004-7941-00, sma, bulkhea...</td>\n",
       "    </tr>\n",
       "    <tr>\n",
       "      <th>1</th>\n",
       "      <td>jersey</td>\n",
       "      <td>[brand, :, majestic, team, :, chicago, white, ...</td>\n",
       "      <td>[60, %, off, majestic, authentic, ,, size, 60,...</td>\n",
       "    </tr>\n",
       "    <tr>\n",
       "      <th>2</th>\n",
       "      <td>top</td>\n",
       "      <td>[improve, the, overall, appearance, of, your, ...</td>\n",
       "      <td>[mr., clean, original, magic, eraser, disposab...</td>\n",
       "    </tr>\n",
       "    <tr>\n",
       "      <th>3</th>\n",
       "      <td>top</td>\n",
       "      <td>[jose, ramirez, 1a, traditional, the, 1a, trad...</td>\n",
       "      <td>[jose, ramirez, 1a, traditional]</td>\n",
       "    </tr>\n",
       "    <tr>\n",
       "      <th>4</th>\n",
       "      <td>jersey</td>\n",
       "      <td>[vendeur, :, mymemory-uk, (, 365.131, ), 99.6,...</td>\n",
       "      <td>[new, sandisk, 128gb, ultra, micro, sd, sdxc, ...</td>\n",
       "    </tr>\n",
       "  </tbody>\n",
       "</table>\n",
       "</div>"
      ],
      "text/plain": [
       "    label                                               text  \\\n",
       "0     top  [seller, :, avitarunlimited, (, 12,633, ), 99....   \n",
       "1  jersey  [brand, :, majestic, team, :, chicago, white, ...   \n",
       "2     top  [improve, the, overall, appearance, of, your, ...   \n",
       "3     top  [jose, ramirez, 1a, traditional, the, 1a, trad...   \n",
       "4  jersey  [vendeur, :, mymemory-uk, (, 365.131, ), 99.6,...   \n",
       "\n",
       "                                               title  \n",
       "0  [(, 8, ), new, amp, 2004-7941-00, sma, bulkhea...  \n",
       "1  [60, %, off, majestic, authentic, ,, size, 60,...  \n",
       "2  [mr., clean, original, magic, eraser, disposab...  \n",
       "3                   [jose, ramirez, 1a, traditional]  \n",
       "4  [new, sandisk, 128gb, ultra, micro, sd, sdxc, ...  "
      ]
     },
     "execution_count": 10,
     "metadata": {},
     "output_type": "execute_result"
    }
   ],
   "source": [
    "fashion_df = pd.DataFrame({'title': title_arr, 'text': text_arr, 'label': label_arr})\n",
    "fashion_df.head()"
   ]
  },
  {
   "cell_type": "code",
   "execution_count": 11,
   "metadata": {
    "collapsed": false
   },
   "outputs": [
    {
     "data": {
      "image/png": "[encoded data removed]",
      "text/plain": [
       "<Figure size 432x288 with 1 Axes>"
      ]
     },
     "metadata": {},
     "output_type": "display_data"
    }
   ],
   "source": [
    "labels = fashion_df['label'].value_counts()[1:20]\n",
    "\n",
    "sns.barplot(x=labels, y=labels.index, orient='h')\n",
    "plt.show()"
   ]
  },
  {
   "cell_type": "code",
   "execution_count": 19,
   "metadata": {
    "collapsed": true
   },
   "outputs": [],
   "source": [
    "fashion_df.to_csv('fashion label result.csv')"
   ]
  },
  {
   "cell_type": "markdown",
   "metadata": {},
   "source": [
    "# mae doc2vec"
   ]
  },
  {
   "cell_type": "code",
   "execution_count": 14,
   "metadata": {
    "collapsed": true
   },
   "outputs": [],
   "source": [
    "import gensim\n",
    "from gensim.test.utils import common_texts\n",
    "from gensim.models.doc2vec import Doc2Vec, TaggedDocument\n",
    "from gensim.models.callbacks import CallbackAny2Vec\n",
    "import time\n",
    "from sklearn.metrics.pairwise import cosine_similarity"
   ]
  },
  {
   "cell_type": "code",
   "execution_count": 16,
   "metadata": {
    "collapsed": false
   },
   "outputs": [],
   "source": [
    "model = Doc2Vec.load('../gensim_model/apnews_dbow/doc2vec.bin')\n",
    "vocab = list(model.wv.vocab.keys())"
   ]
  },
  {
   "cell_type": "code",
   "execution_count": 17,
   "metadata": {
    "collapsed": true
   },
   "outputs": [],
   "source": [
    "labels = fashion_df['label']\n",
    "titles = fashion_df['title']\n",
    "texts = fashion_df['text']"
   ]
  },
  {
   "cell_type": "code",
   "execution_count": 18,
   "metadata": {
    "collapsed": true
   },
   "outputs": [],
   "source": [
    "fashion_dict = dict()\n",
    "\n",
    "for l in fashion_label:\n",
    "    fashion_dict[l] = []"
   ]
  },
  {
   "cell_type": "code",
   "execution_count": 23,
   "metadata": {
    "collapsed": false
   },
   "outputs": [],
   "source": [
    "pbar = tqdm(total=len(labels))\n",
    "for label, title, text in zip(labels, titles, texts):\n",
    "    pbar.update(1)\n",
    "    if not label in vocab or label == 'top':\n",
    "        continue\n",
    "        \n",
    "    tt = title\n",
    "    tt = list(filter(lambda x: x in vocab, tt))\n",
    "    \n",
    "    tv = model.infer_vector(tt)\n",
    "    label_vec = model.infer_vector([label])\n",
    "    sim = cosine_similarity([tv], [label_vec])\n",
    "    \n",
    "    fashion_dict[label].append(sim[0][0])"
   ]
  },
  {
   "cell_type": "code",
   "execution_count": 20,
   "metadata": {
    "collapsed": false
   },
   "outputs": [
    {
     "name": "stdout",
     "output_type": "stream",
     "text": [
      "hoodie 0.600971132516861\n",
      "turtleneck 0.6020228266716003\n",
      "cape 0.3410552144050598\n",
      "tee 0.5665780935022566\n",
      "caftan 0.6474571228027344\n",
      "poncho 0.7193359732627869\n",
      "jumpsuit 0.6967390179634094\n",
      "skirt 0.659773762524128\n",
      "bomber 0.8722270925839742\n",
      "jacket 0.6026744663715362\n",
      "romper 0.6287135481834412\n",
      "cardigan 0.9217245876789093\n",
      "dress 0.5989665926899761\n",
      "tank 0.4967053643294743\n",
      "shirtdress 0.8042232692241669\n",
      "sweater 0.7705422163009643\n",
      "blouse 0.6538023017346859\n",
      "sweatpants 0.6223732829093933\n",
      "blazer 0.695142537355423\n",
      "sundress 0.5589568018913269\n",
      "jeggings 0.6296300143003464\n",
      "robe 0.6617573499679565\n",
      "coat 0.5258535755177339\n",
      "flannel 0.6520792692899704\n",
      "jersey 0.43950078742844717\n"
     ]
    }
   ],
   "source": [
    "for k, v in fashion_dict.items():\n",
    "    try:\n",
    "        print(k, sum(v) / len(v))\n",
    "    except:\n",
    "        pass"
   ]
  }
 ],
 "metadata": {
  "anaconda-cloud": {},
  "kernelspec": {
   "display_name": "Python [default]",
   "language": "python",
   "name": "python3"
  },
  "language_info": {
   "codemirror_mode": {
    "name": "ipython",
    "version": 3
   },
   "file_extension": ".py",
   "mimetype": "text/x-python",
   "name": "python",
   "nbconvert_exporter": "python",
   "pygments_lexer": "ipython3",
   "version": "3.5.6"
  }
 },
 "nbformat": 4,
 "nbformat_minor": 2
}
